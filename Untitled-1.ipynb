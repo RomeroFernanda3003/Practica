{
 "cells": [
  {
   "cell_type": "code",
   "execution_count": 2,
   "metadata": {},
   "outputs": [
    {
     "name": "stdout",
     "output_type": "stream",
     "text": [
      "no es tu cumpleaños\n"
     ]
    }
   ],
   "source": [
    "fecha_hoy = input(\"fecha\")\n",
    "fecha_cumpleaños=input(\"dia de cumpleaños\")\n",
    "if fecha_cumpleaños == fecha_hoy: \n",
    "    print(\"¡es tu cumpleaños!\")\n",
    "else:\n",
    "    print(\"no es tu cumpleaños\")"
   ]
  },
  {
   "cell_type": "code",
   "execution_count": null,
   "metadata": {},
   "outputs": [],
   "source": [
    "n1= int(input(\"ingresa el primer dato\"))\n",
    "n2= int(input(\"inserta otro numero\"))\n",
    "\n",
    "resultado_n1+3\n",
    "resultado_n2 =n2+4\n",
    "\n",
    "print(d\"[n1]+3 = [n2]+6\")\n",
    "print(d\"[n1]+3 =[resultado_n1]\")\n",
    "print(d\"[n2]+4 =[resultado_n2]\")\n",
    "\n",
    "if resultado_n1 == resultado_n2:\n",
    "        print(\"igual\")\n",
    "else:\n",
    "    print(\"diferente\")"
   ]
  },
  {
   "cell_type": "code",
   "execution_count": null,
   "metadata": {},
   "outputs": [],
   "source": [
    "codigo_postal =input(\"codigo:\")\n",
    "codigos =int(codigo_postal)\n",
    "if 50000 <= codigo_postal <= 50030:\n",
    "    print(\"tu pedido se entragara\")\n",
    "else:\n",
    "    print(\"tu pedido no se podra entregar\")"
   ]
  }
 ],
 "metadata": {
  "kernelspec": {
   "display_name": "Python 3",
   "language": "python",
   "name": "python3"
  },
  "language_info": {
   "codemirror_mode": {
    "name": "ipython",
    "version": 3
   },
   "file_extension": ".py",
   "mimetype": "text/x-python",
   "name": "python",
   "nbconvert_exporter": "python",
   "pygments_lexer": "ipython3",
   "version": "3.11.3"
  }
 },
 "nbformat": 4,
 "nbformat_minor": 2
}
